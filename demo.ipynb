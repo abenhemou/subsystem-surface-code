{
 "cells": [
  {
   "cell_type": "code",
   "execution_count": 17,
   "metadata": {},
   "outputs": [
    {
     "ename": "SyntaxError",
     "evalue": "invalid syntax (<ipython-input-17-9149ff9e4b45>, line 2)",
     "output_type": "error",
     "traceback": [
      "\u001b[0;36m  Cell \u001b[0;32mIn [17], line 2\u001b[0;36m\u001b[0m\n\u001b[0;31m    from subsystem-pkg.decodertools import *\u001b[0m\n\u001b[0m                  ^\u001b[0m\n\u001b[0;31mSyntaxError\u001b[0m\u001b[0;31m:\u001b[0m invalid syntax\n"
     ]
    }
   ],
   "source": [
    "import pandas as pd\n",
    "from subsystem-surface-code.decodertools import * \n"
   ]
  },
  {
   "cell_type": "code",
   "execution_count": 14,
   "metadata": {},
   "outputs": [
    {
     "name": "stdout",
     "output_type": "stream",
     "text": [
      "7\n"
     ]
    },
    {
     "ename": "NameError",
     "evalue": "name 'SubsystemSurfaceCode' is not defined",
     "output_type": "error",
     "traceback": [
      "\u001b[0;31m---------------------------------------------------------------------------\u001b[0m",
      "\u001b[0;31mNameError\u001b[0m                                 Traceback (most recent call last)",
      "Cell \u001b[0;32mIn [14], line 8\u001b[0m\n\u001b[1;32m      6\u001b[0m     \u001b[39mprint\u001b[39m(d)\n\u001b[1;32m      7\u001b[0m     \u001b[39mfor\u001b[39;00m p \u001b[39min\u001b[39;00m pauli_noise: \n\u001b[0;32m----> 8\u001b[0m         ler \u001b[39m=\u001b[39m ler_sample_from_subsystem_surface_code(distance\u001b[39m=\u001b[39;49md,\n\u001b[1;32m      9\u001b[0m                                                       num_shots\u001b[39m=\u001b[39;49m\u001b[39m10000\u001b[39;49m,\n\u001b[1;32m     10\u001b[0m                                                       p_pauli\u001b[39m=\u001b[39;49mp, \n\u001b[1;32m     11\u001b[0m                                                       rounds\u001b[39m=\u001b[39;49md)\n\u001b[1;32m     12\u001b[0m         results\u001b[39m.\u001b[39mappend({\u001b[39m'\u001b[39m\u001b[39md\u001b[39m\u001b[39m'\u001b[39m:d, \u001b[39m'\u001b[39m\u001b[39mp_pauli\u001b[39m\u001b[39m'\u001b[39m:p, \u001b[39m'\u001b[39m\u001b[39mler\u001b[39m\u001b[39m'\u001b[39m:ler})\n\u001b[1;32m     14\u001b[0m output_file \u001b[39m=\u001b[39m \u001b[39m'\u001b[39m\u001b[39msubsystem_surface_code.csv\u001b[39m\u001b[39m'\u001b[39m \n",
      "File \u001b[0;32m~/Research/subsystem-surface-code/decodertools.py:50\u001b[0m, in \u001b[0;36mler_sample_from_subsystem_surface_code\u001b[0;34m(distance, num_shots, p_pauli, rounds)\u001b[0m\n\u001b[1;32m     39\u001b[0m \u001b[39mdef\u001b[39;00m \u001b[39mler_sample_from_subsystem_surface_code\u001b[39m(distance: \u001b[39mint\u001b[39m, num_shots: \u001b[39mint\u001b[39m, p_pauli: \u001b[39mfloat\u001b[39m \u001b[39m=\u001b[39m \u001b[39m0\u001b[39m, rounds:\u001b[39mint\u001b[39m \u001b[39m=\u001b[39m \u001b[39m2\u001b[39m):\n\u001b[1;32m     40\u001b[0m     \u001b[39m\"\"\"Sample from subsystem surface code circuit.\"\"\"\u001b[39;00m\n\u001b[1;32m     42\u001b[0m     circuit \u001b[39m=\u001b[39m generate_rotated_subsystem_surface_code(CircuitGenParameters(distance \u001b[39m=\u001b[39m distance,\n\u001b[1;32m     43\u001b[0m                                                                            rounds \u001b[39m=\u001b[39m rounds,\n\u001b[1;32m     44\u001b[0m                                                                            after_clifford_depolarization \u001b[39m=\u001b[39m p_pauli,\n\u001b[1;32m     45\u001b[0m                                                                            before_round_data_depolarization \u001b[39m=\u001b[39m p_pauli,\n\u001b[1;32m     46\u001b[0m                                                                            before_measure_flip_probability \u001b[39m=\u001b[39m p_pauli,\n\u001b[1;32m     47\u001b[0m                                                                            after_reset_flip_probability \u001b[39m=\u001b[39m p_pauli,\n\u001b[1;32m     48\u001b[0m                                                                            exclude_other_basis_detectors \u001b[39m=\u001b[39m \u001b[39mFalse\u001b[39;00m,\n\u001b[1;32m     49\u001b[0m                                                                            show_qubit_coordinates\u001b[39m=\u001b[39m\u001b[39mFalse\u001b[39;00m),\n\u001b[0;32m---> 50\u001b[0m                                                       SubsystemSurfaceCode(distance\u001b[39m=\u001b[39mdistance),\n\u001b[1;32m     51\u001b[0m                                                       experiment_basis\u001b[39m=\u001b[39m\u001b[39m'\u001b[39m\u001b[39mX\u001b[39m\u001b[39m'\u001b[39m)\n\u001b[1;32m     53\u001b[0m     num_errors \u001b[39m=\u001b[39m count_logical_errors(circuit, num_shots)\n\u001b[1;32m     54\u001b[0m     \u001b[39mreturn\u001b[39;00m num_errors \u001b[39m/\u001b[39m num_shots\n",
      "\u001b[0;31mNameError\u001b[0m: name 'SubsystemSurfaceCode' is not defined"
     ]
    }
   ],
   "source": [
    "results = []\n",
    "distances = [7, 9, 11]\n",
    "pauli_noise = np.linspace(0.002, 0.009, 15)\n",
    "\n",
    "for d in distances:\n",
    "    print(d)\n",
    "    for p in pauli_noise: \n",
    "        ler = ler_sample_from_subsystem_surface_code(distance=d,\n",
    "                                                      num_shots=10000,\n",
    "                                                      p_pauli=p, \n",
    "                                                      rounds=d)\n",
    "        results.append({'d':d, 'p_pauli':p, 'ler':ler})\n",
    "        \n",
    "output_file = 'subsystem_surface_code.csv' \n",
    "\n",
    "results_df = pd.DataFrame(results)\n",
    "results_df.to_csv(output_file, index=False)"
   ]
  },
  {
   "cell_type": "code",
   "execution_count": null,
   "metadata": {},
   "outputs": [],
   "source": []
  }
 ],
 "metadata": {
  "kernelspec": {
   "display_name": "Python 3.8.13 ('stimenv')",
   "language": "python",
   "name": "python3"
  },
  "language_info": {
   "codemirror_mode": {
    "name": "ipython",
    "version": 3
   },
   "file_extension": ".py",
   "mimetype": "text/x-python",
   "name": "python",
   "nbconvert_exporter": "python",
   "pygments_lexer": "ipython3",
   "version": "3.8.13"
  },
  "orig_nbformat": 4,
  "vscode": {
   "interpreter": {
    "hash": "3b81ef209d9035fea3e5f48626c79c17a807da2f46a31dd294571c2c1246577a"
   }
  }
 },
 "nbformat": 4,
 "nbformat_minor": 2
}
